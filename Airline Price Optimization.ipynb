{
 "cells": [
  {
   "cell_type": "code",
   "execution_count": 1,
   "metadata": {},
   "outputs": [],
   "source": [
    "from IPython.display import display, Javascript\n",
    "import json\n",
    "from numpy.random import uniform, seed\n",
    "from numpy import floor\n",
    "from collections import namedtuple\n",
    "\n",
    "def _tickets_sold(p, demand_level, max_qty):\n",
    "        quantity_demanded = floor(max(0, p - demand_level))\n",
    "        return min(quantity_demanded, max_qty)\n",
    "\n",
    "def simulate_revenue(days_left, tickets_left, pricing_function, rev_to_date=0, \n",
    "                     demand_level_min=100, demand_level_max=200, verbose=False):\n",
    "    if (days_left == 0) or (tickets_left == 0):\n",
    "        if verbose:\n",
    "            if (days_left == 0):\n",
    "                print(\"The flight took off today. \")\n",
    "            if (tickets_left == 0):\n",
    "                print(\"This flight is booked full.\")\n",
    "            print(\"Total Revenue: ${:.0f}\".format(rev_to_date))\n",
    "        return rev_to_date\n",
    "    else:\n",
    "        demand_level = uniform(demand_level_min, demand_level_max)\n",
    "        p = pricing_function(days_left, tickets_left, demand_level)\n",
    "        q = _tickets_sold(demand_level, p, tickets_left)\n",
    "        if verbose:\n",
    "            print(\"{:.0f} days before flight: \"\n",
    "                  \"Started with {:.0f} seats. \"\n",
    "                  \"Demand level: {:.0f}. \"\n",
    "                  \"Price set to ${:.0f}. \"\n",
    "                  \"Sold {:.0f} tickets. \"\n",
    "                  \"Daily revenue is {:.0f}. Total revenue-to-date is {:.0f}. \"\n",
    "                  \"{:.0f} seats remaining\".format(days_left, tickets_left, demand_level, p, q, \n",
    "                                                  p*q, p*q+rev_to_date, tickets_left-q))\n",
    "        return simulate_revenue(days_left = days_left-1,\n",
    "                              tickets_left = tickets_left-q,\n",
    "                              pricing_function=pricing_function,\n",
    "                              rev_to_date=rev_to_date + p * q,\n",
    "                              demand_level_min=demand_level_min,\n",
    "                              demand_level_max=demand_level_max,\n",
    "                              verbose=verbose)\n",
    "\n",
    "def _save_score(score):\n",
    "    message = {\n",
    "        'jupyterEvent': 'custom.exercise_interaction',\n",
    "        'data': {\n",
    "            'learnTutorialId': 0,\n",
    "            'interactionType': \"check\",\n",
    "            'questionId': 'Aug31OptimizationChallenge',\n",
    "            'outcomeType': 'Pass',\n",
    "            'valueTowardsCompletion': score/10000,\n",
    "            'failureMessage': None,\n",
    "            'learnToolsVersion': \"Testing\"\n",
    "        }\n",
    "    }\n",
    "    js = 'parent.postMessage(%s, \"*\")' % json.dumps(message)\n",
    "    display(Javascript(js))\n",
    "\n",
    "def score_me(pricing_function, sims_per_scenario=200):\n",
    "    seed(0)\n",
    "    Scenario = namedtuple('Scenario', 'n_days n_tickets')\n",
    "    scenarios = [Scenario(n_days=100, n_tickets=100),\n",
    "                 Scenario(n_days=14, n_tickets=50),\n",
    "                 Scenario(n_days=2, n_tickets=20),\n",
    "                Scenario(n_days=1, n_tickets=3),\n",
    "                 ]\n",
    "    scenario_scores = []\n",
    "    for s in scenarios:\n",
    "        scenario_score = sum(simulate_revenue(s.n_days, s.n_tickets, pricing_function)\n",
    "                                     for _ in range(sims_per_scenario)) / sims_per_scenario\n",
    "        print(\"Ran {:.0f} flights starting {:.0f} days before flight with {:.0f} tickets. \"\n",
    "              \"Average revenue: ${:.0f}\".format(sims_per_scenario,\n",
    "                                                s.n_days,\n",
    "                                                s.n_tickets,\n",
    "                                                scenario_score))\n",
    "        scenario_scores.append(scenario_score)\n",
    "    score = sum(scenario_scores) / len(scenario_scores)\n",
    "    try:\n",
    "        _save_score(score)\n",
    "    except:\n",
    "        pass\n",
    "    print(\"Average revenue across all flights is ${:.0f}\".format(score))"
   ]
  },
  {
   "cell_type": "code",
   "execution_count": 2,
   "metadata": {},
   "outputs": [],
   "source": [
    "import numpy as np\n",
    "from scipy.optimize import brentq, fmin_cobyla"
   ]
  },
  {
   "cell_type": "code",
   "execution_count": 3,
   "metadata": {},
   "outputs": [],
   "source": [
    "def opt_value(q_bar, A):\n",
    "    if q_bar <= 0:\n",
    "        return np.zeros_like(A[:, :1])\n",
    "\n",
    "    y = 0.5 * A / q_bar\n",
    "    if y.ndim < 2:\n",
    "        y = y.reshape(1, -1)\n",
    "\n",
    "    gfun = lambda C, z: 1 - np.sum(np.maximum(z - C, 0))\n",
    "    C_opt = np.array([[brentq(gfun, 0, max(max(x), 0), args=(x,))\n",
    "                       if gfun(0, x) < 0 else 0 for x in y]]).T\n",
    "\n",
    "    x_opt = np.maximum(y - C_opt, 0)\n",
    "    V_opt = C_opt + 0.5 * np.sum(x_opt**2, axis=-1, keepdims=True)\n",
    "\n",
    "    return 2 * q_bar * q_bar * V_opt"
   ]
  },
  {
   "cell_type": "code",
   "execution_count": 4,
   "metadata": {},
   "outputs": [],
   "source": [
    "class BasePricePolicy(object):\n",
    "    def __init__(self):\n",
    "        pass\n",
    "\n",
    "    def __call__(self, days_left, tickets_left, demand_level):\n",
    "        return demand_level - 10"
   ]
  },
  {
   "cell_type": "code",
   "execution_count": 5,
   "metadata": {},
   "outputs": [],
   "source": [
    "class ApproxPricePolicy(BasePricePolicy):\n",
    "    def __init__(self, demand_bins):\n",
    "        super(ApproxPricePolicy, self).__init__()\n",
    "        self.demand_bins = demand_bins\n",
    "\n",
    "    def __call__(self, days_left, tickets_left, demand_level):\n",
    "        tickets_left, days_left = int(tickets_left), int(days_left)\n",
    "        self.compute_dp(days_left, tickets_left)\n",
    "\n",
    "        demand_level_bin = np.digitize(demand_level, self.demand_bins) - 1\n",
    "\n",
    "        qty = np.argmax(self.current_[demand_level_bin, :tickets_left + 1]\n",
    "                        + self.value_[days_left - 1, tickets_left::-1])\n",
    "\n",
    "        price = demand_level - qty\n",
    "        return price\n",
    "\n",
    "    def compute_dp(self, days_left, tickets_left):\n",
    "        dp_computed_, tickets_left = hasattr(self, \"value_\"), int(tickets_left)\n",
    "        if dp_computed_:\n",
    "            n_days, n_tickets_p1 = self.value_.shape\n",
    "            dp_computed_ = (n_days >= days_left) and (n_tickets_p1 > tickets_left)\n",
    "        if dp_computed_:\n",
    "            return\n",
    "        \n",
    "        self.value_, self.current_ = self._compute_dp(days_left, tickets_left)\n",
    "    \n",
    "    def _compute_dp(self, n_days, n_tickets):\n",
    "        current = np.zeros((len(self.demand_bins), 1 + n_tickets), dtype=float)\n",
    "        for q in range(1 + n_tickets):\n",
    "            current[:, q] = (self.demand_bins - q) * q\n",
    "            \n",
    "        V_tilde = np.zeros((n_days, 1 + n_tickets), dtype=float)\n",
    "        for t in range(1, n_days):\n",
    "            for x in range(1 + n_tickets):\n",
    "                V_txq = current[:, :x + 1] + V_tilde[t - 1, np.newaxis, x::-1]\n",
    "                V_tilde[t, x] = np.mean(np.max(V_txq, axis=-1), axis=0)\n",
    "        return V_tilde, current"
   ]
  },
  {
   "cell_type": "code",
   "execution_count": 6,
   "metadata": {},
   "outputs": [],
   "source": [
    "pricing_function = ApproxPricePolicy(np.linspace(100, 200, num=2001))"
   ]
  },
  {
   "cell_type": "code",
   "execution_count": 7,
   "metadata": {},
   "outputs": [
    {
     "name": "stdout",
     "output_type": "stream",
     "text": [
      "7 days before flight: Started with 50 seats. Demand level: 106. Price set to $106. Sold 0 tickets. Daily revenue is 0. Total revenue-to-date is 0. 50 seats remaining\n",
      "6 days before flight: Started with 50 seats. Demand level: 196. Price set to $172. Sold 24 tickets. Daily revenue is 4122. Total revenue-to-date is 4122. 26 seats remaining\n",
      "5 days before flight: Started with 26 seats. Demand level: 181. Price set to $168. Sold 13 tickets. Daily revenue is 2183. Total revenue-to-date is 6305. 13 seats remaining\n",
      "4 days before flight: Started with 13 seats. Demand level: 175. Price set to $167. Sold 8 tickets. Daily revenue is 1337. Total revenue-to-date is 7642. 5 seats remaining\n",
      "3 days before flight: Started with 5 seats. Demand level: 192. Price set to $187. Sold 5 tickets. Daily revenue is 935. Total revenue-to-date is 8578. 0 seats remaining\n",
      "This flight is booked full.\n",
      "Total Revenue: $8578\n"
     ]
    },
    {
     "data": {
      "text/plain": [
       "8577.624619799693"
      ]
     },
     "execution_count": 7,
     "metadata": {},
     "output_type": "execute_result"
    }
   ],
   "source": [
    "simulate_revenue(days_left=7, tickets_left=50, pricing_function=pricing_function, verbose=True)"
   ]
  },
  {
   "cell_type": "code",
   "execution_count": 8,
   "metadata": {},
   "outputs": [
    {
     "name": "stdout",
     "output_type": "stream",
     "text": [
      "Ran 200 flights starting 100 days before flight with 100 tickets. Average revenue: $18519\n",
      "Ran 200 flights starting 14 days before flight with 50 tickets. Average revenue: $8566\n",
      "Ran 200 flights starting 2 days before flight with 20 tickets. Average revenue: $2923\n",
      "Ran 200 flights starting 1 days before flight with 3 tickets. Average revenue: $434\n"
     ]
    },
    {
     "data": {
      "application/javascript": [
       "parent.postMessage({\"jupyterEvent\": \"custom.exercise_interaction\", \"data\": {\"learnTutorialId\": 0, \"interactionType\": \"check\", \"questionId\": \"Aug31OptimizationChallenge\", \"outcomeType\": \"Pass\", \"valueTowardsCompletion\": 0.7610679030105606, \"failureMessage\": null, \"learnToolsVersion\": \"Testing\"}}, \"*\")"
      ],
      "text/plain": [
       "<IPython.core.display.Javascript object>"
      ]
     },
     "metadata": {},
     "output_type": "display_data"
    },
    {
     "name": "stdout",
     "output_type": "stream",
     "text": [
      "Average revenue across all flights is $7611\n"
     ]
    }
   ],
   "source": [
    "score_me(pricing_function)"
   ]
  },
  {
   "cell_type": "code",
   "execution_count": null,
   "metadata": {},
   "outputs": [],
   "source": []
  }
 ],
 "metadata": {
  "kernelspec": {
   "display_name": "Python 3",
   "language": "python",
   "name": "python3"
  },
  "language_info": {
   "codemirror_mode": {
    "name": "ipython",
    "version": 3
   },
   "file_extension": ".py",
   "mimetype": "text/x-python",
   "name": "python",
   "nbconvert_exporter": "python",
   "pygments_lexer": "ipython3",
   "version": "3.7.4"
  }
 },
 "nbformat": 4,
 "nbformat_minor": 2
}
