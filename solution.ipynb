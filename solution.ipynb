{
 "cells": [
  {
   "cell_type": "markdown",
   "metadata": {},
   "source": [
    "# Soulution"
   ]
  },
  {
   "cell_type": "code",
   "execution_count": null,
   "metadata": {},
   "outputs": [],
   "source": [
    "import sys\n",
    "from simulator import simulate_revenue, score_me\n",
    "import numpy as np\n",
    "from scipy.optimize import brentq, fmin_cobyla"
   ]
  },
  {
   "cell_type": "code",
   "execution_count": null,
   "metadata": {},
   "outputs": [],
   "source": [
    "def opt_value(q_bar, A):\n",
    "    if q_bar <= 0:\n",
    "        return np.zeros_like(A[:, :1])\n",
    "\n",
    "    y = 0.5 * A / q_bar\n",
    "    if y.ndim < 2:\n",
    "        y = y.reshape(1, -1)\n",
    "\n",
    "    gfun = lambda C, z: 1 - np.sum(np.maximum(z - C, 0))\n",
    "    C_opt = np.array([[brentq(gfun, 0, max(max(x), 0), args=(x,))\n",
    "                       if gfun(0, x) < 0 else 0 for x in y]]).T\n",
    "\n",
    "    x_opt = np.maximum(y - C_opt, 0)\n",
    "    V_opt = C_opt + 0.5 * np.sum(x_opt**2, axis=-1, keepdims=True)\n",
    "\n",
    "    return 2 * q_bar * q_bar * V_opt"
   ]
  },
  {
   "cell_type": "code",
   "execution_count": null,
   "metadata": {},
   "outputs": [],
   "source": [
    "class BasePricePolicy(object):\n",
    "    def __init__(self):\n",
    "        pass\n",
    "\n",
    "    def __call__(self, days_left, tickets_left, demand_level):\n",
    "        return demand_level - 10"
   ]
  },
  {
   "cell_type": "code",
   "execution_count": null,
   "metadata": {},
   "outputs": [],
   "source": [
    "class ApproxPricePolicy(BasePricePolicy):\n",
    "    def __init__(self, demand_bins):\n",
    "        super(ApproxPricePolicy, self).__init__()\n",
    "        self.demand_bins = demand_bins\n",
    "\n",
    "    def __call__(self, days_left, tickets_left, demand_level):\n",
    "        tickets_left, days_left = int(tickets_left), int(days_left)\n",
    "        self.compute_dp(days_left, tickets_left)\n",
    "\n",
    "        demand_level_bin = np.digitize(demand_level, self.demand_bins) - 1\n",
    "\n",
    "        qty = np.argmax(self.current_[demand_level_bin, :tickets_left + 1]\n",
    "                        + self.value_[days_left - 1, tickets_left::-1])\n",
    "\n",
    "        price = demand_level - qty\n",
    "        return price\n",
    "\n",
    "    def compute_dp(self, days_left, tickets_left):\n",
    "        dp_computed_, tickets_left = hasattr(self, \"value_\"), int(tickets_left)\n",
    "        if dp_computed_:\n",
    "            n_days, n_tickets_p1 = self.value_.shape\n",
    "            dp_computed_ = (n_days >= days_left) and (n_tickets_p1 > tickets_left)\n",
    "        if dp_computed_:\n",
    "            return\n",
    "        \n",
    "        self.value_, self.current_ = self._compute_dp(days_left, tickets_left)\n",
    "    \n",
    "    def _compute_dp(self, n_days, n_tickets):\n",
    "        current = np.zeros((len(self.demand_bins), 1 + n_tickets), dtype=float)\n",
    "        for q in range(1 + n_tickets):\n",
    "            current[:, q] = (self.demand_bins - q) * q\n",
    "            \n",
    "        V_tilde = np.zeros((n_days, 1 + n_tickets), dtype=float)\n",
    "        for t in range(1, n_days):\n",
    "            for x in range(1 + n_tickets):\n",
    "                V_txq = current[:, :x + 1] + V_tilde[t - 1, np.newaxis, x::-1]\n",
    "                V_tilde[t, x] = np.mean(np.max(V_txq, axis=-1), axis=0)\n",
    "        return V_tilde, current"
   ]
  },
  {
   "cell_type": "code",
   "execution_count": null,
   "metadata": {},
   "outputs": [],
   "source": [
    "pricing_function = ApproxPricePolicy(np.linspace(100, 200, num=2001))"
   ]
  },
  {
   "cell_type": "code",
   "execution_count": null,
   "metadata": {},
   "outputs": [],
   "source": [
    "simulate_revenue(days_left=7, tickets_left=50, pricing_function=pricing_function, verbose=True)"
   ]
  },
  {
   "cell_type": "code",
   "execution_count": null,
   "metadata": {},
   "outputs": [],
   "source": []
  }
 ],
 "metadata": {
  "kernelspec": {
   "display_name": "Python 3",
   "language": "python",
   "name": "python3"
  },
  "language_info": {
   "codemirror_mode": {
    "name": "ipython",
    "version": 3
   },
   "file_extension": ".py",
   "mimetype": "text/x-python",
   "name": "python",
   "nbconvert_exporter": "python",
   "pygments_lexer": "ipython3",
   "version": "3.7.4"
  }
 },
 "nbformat": 4,
 "nbformat_minor": 2
}
