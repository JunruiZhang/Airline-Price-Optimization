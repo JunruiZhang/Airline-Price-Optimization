{
 "cells": [
  {
   "cell_type": "markdown",
   "metadata": {},
   "source": [
    "# Soulution"
   ]
  },
  {
   "cell_type": "code",
   "execution_count": 1,
   "metadata": {},
   "outputs": [],
   "source": [
    "import sys\n",
    "from simulator import simulate_revenue, score_me\n",
    "import numpy as np\n",
    "from scipy.optimize import brentq, fmin_cobyla"
   ]
  },
  {
   "cell_type": "code",
   "execution_count": 2,
   "metadata": {},
   "outputs": [],
   "source": [
    "def optimization(Bar_For_Flight, Ave):\n",
    "    if Bar_For_Flight <= 0:\n",
    "        return np.zeros_like(Ave[:, :1])\n",
    "    lin = 0.5 * Ave / Bar_For_Flight\n",
    "    if lin.ndim < 2:\n",
    "        lin = lin.reshape(1, -1)\n",
    "    G_Func = lambda C, z: 1 - np.sum(np.maximum(z - C, 0))\n",
    "    c_optimize = np.array([[brentq(G_Func, 0, max(max(x), 0), args=(x,))\n",
    "                       if G_Func(0, x) < 0 else 0 for x in lin]]).T\n",
    "    x_optimize = np.maximum(lin - c_optimize, 0)\n",
    "    v_optimize = c_optimize + 0.5 * np.sum(x_optimize**2, axis=-1, keepdims=True)\n",
    "    return 2 * Bar_For_Flight * Bar_For_Flight * v_optimize"
   ]
  },
  {
   "cell_type": "code",
   "execution_count": 3,
   "metadata": {},
   "outputs": [],
   "source": [
    "class Basement(object):\n",
    "    def __init__(self):\n",
    "        pass\n",
    "    \n",
    "    def __call__(self, days_left, tickets_left, demand_level):\n",
    "        return demand_level - 10"
   ]
  },
  {
   "cell_type": "code",
   "execution_count": 4,
   "metadata": {},
   "outputs": [],
   "source": [
    "class Optimization_Policy(Basement):\n",
    "    def __init__(self, demand_bins):\n",
    "        super(Optimization_Policy, self).__init__()\n",
    "        self.demand_bins = demand_bins\n",
    "\n",
    "    def __call__(self, days_left, tickets_left, demand_level):\n",
    "        tickets_left, days_left = int(tickets_left), int(days_left)\n",
    "        self.computation(days_left, tickets_left)\n",
    "\n",
    "        demand_level_bin = np.digitize(demand_level, self.demand_bins) - 1\n",
    "\n",
    "        quene = np.argmax(self.current_[demand_level_bin, :tickets_left + 1]\n",
    "                        + self.value_[days_left - 1, tickets_left::-1])\n",
    "\n",
    "        price = demand_level - quene\n",
    "        return price\n",
    "\n",
    "    def computation(self, days_left, tickets_left):\n",
    "        dp_computed_, tickets_left = hasattr(self, \"value_\"), int(tickets_left)\n",
    "        if dp_computed_:\n",
    "            n_days, n_tickets_p1 = self.value_.shape\n",
    "            dp_computed_ = (n_days >= days_left) and (n_tickets_p1 > tickets_left)\n",
    "        if dp_computed_:\n",
    "            return\n",
    "        \n",
    "        self.value_, self.current_ = self._computation(days_left, tickets_left)\n",
    "    \n",
    "    def _computation(self, n_days, n_tickets):\n",
    "        current = np.zeros((len(self.demand_bins), 1 + n_tickets), dtype=float)\n",
    "        for q in range(1 + n_tickets):\n",
    "            current[:, q] = (self.demand_bins - q) * q\n",
    "            \n",
    "        V_tilde = np.zeros((n_days, 1 + n_tickets), dtype=float)\n",
    "        for t in range(1, n_days):\n",
    "            for x in range(1 + n_tickets):\n",
    "                V_txq = current[:, :x + 1] + V_tilde[t - 1, np.newaxis, x::-1]\n",
    "                V_tilde[t, x] = np.mean(np.max(V_txq, axis=-1), axis=0)\n",
    "        return V_tilde, current"
   ]
  },
  {
   "cell_type": "code",
   "execution_count": 5,
   "metadata": {},
   "outputs": [],
   "source": [
    "pricing_function = Optimization_Policy(np.linspace(100, 200, num=2001))"
   ]
  },
  {
   "cell_type": "code",
   "execution_count": 6,
   "metadata": {},
   "outputs": [
    {
     "name": "stdout",
     "output_type": "stream",
     "text": [
      "7 days before flight: Started with 50 seats. Demand level: 136. Price set to $136. Sold 0 tickets. \n",
      "Daily revenue is 0. Total revenue-to-date is 0. 50 seats remaining\n",
      "\n",
      "6 days before flight: Started with 50 seats. Demand level: 159. Price set to $149. Sold 10 tickets. \n",
      "Daily revenue is 1490. Total revenue-to-date is 1490. 40 seats remaining\n",
      "\n",
      "5 days before flight: Started with 40 seats. Demand level: 188. Price set to $168. Sold 20 tickets. \n",
      "Daily revenue is 3353. Total revenue-to-date is 4843. 20 seats remaining\n",
      "\n",
      "4 days before flight: Started with 20 seats. Demand level: 196. Price set to $179. Sold 17 tickets. \n",
      "Daily revenue is 3044. Total revenue-to-date is 7887. 3 seats remaining\n",
      "\n",
      "3 days before flight: Started with 3 seats. Demand level: 161. Price set to $160. Sold 1 tickets. \n",
      "Daily revenue is 160. Total revenue-to-date is 8047. 2 seats remaining\n",
      "\n",
      "2 days before flight: Started with 2 seats. Demand level: 189. Price set to $187. Sold 2 tickets. \n",
      "Daily revenue is 375. Total revenue-to-date is 8421. 0 seats remaining\n",
      "\n",
      "This flight is booked full.\n",
      "Total Revenue: $8421\n"
     ]
    },
    {
     "data": {
      "text/plain": [
       "8421.066465326696"
      ]
     },
     "execution_count": 6,
     "metadata": {},
     "output_type": "execute_result"
    }
   ],
   "source": [
    "simulate_revenue(days_left=7, tickets_left=50, pricing_function=pricing_function, verbose=True)"
   ]
  },
  {
   "cell_type": "code",
   "execution_count": null,
   "metadata": {},
   "outputs": [],
   "source": []
  }
 ],
 "metadata": {
  "kernelspec": {
   "display_name": "Python 3",
   "language": "python",
   "name": "python3"
  },
  "language_info": {
   "codemirror_mode": {
    "name": "ipython",
    "version": 3
   },
   "file_extension": ".py",
   "mimetype": "text/x-python",
   "name": "python",
   "nbconvert_exporter": "python",
   "pygments_lexer": "ipython3",
   "version": "3.7.4"
  }
 },
 "nbformat": 4,
 "nbformat_minor": 2
}
